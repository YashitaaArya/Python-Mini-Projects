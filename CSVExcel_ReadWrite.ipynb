{
  "nbformat": 4,
  "nbformat_minor": 0,
  "metadata": {
    "colab": {
      "provenance": [],
      "authorship_tag": "ABX9TyOjn6fLihLMwet8gup0j5/r",
      "include_colab_link": true
    },
    "kernelspec": {
      "name": "python3",
      "display_name": "Python 3"
    },
    "language_info": {
      "name": "python"
    }
  },
  "cells": [
    {
      "cell_type": "markdown",
      "metadata": {
        "id": "view-in-github",
        "colab_type": "text"
      },
      "source": [
        "<a href=\"https://colab.research.google.com/github/YashitaaArya/Python-Mini-Projects/blob/main/CSVExcel_ReadWrite.ipynb\" target=\"_parent\"><img src=\"https://colab.research.google.com/assets/colab-badge.svg\" alt=\"Open In Colab\"/></a>"
      ]
    },
    {
      "cell_type": "markdown",
      "source": [
        "Create a Python script that can read data from a CSV file and write it to an Excel file (and vice versa)."
      ],
      "metadata": {
        "id": "JHplk4M5NKGF"
      }
    },
    {
      "cell_type": "code",
      "execution_count": 1,
      "metadata": {
        "id": "QXA8qn8jNFPo"
      },
      "outputs": [],
      "source": [
        "import pandas as pd\n"
      ]
    },
    {
      "cell_type": "code",
      "source": [
        "# Read data from csv\n",
        "csv_data = pd.read_csv(\"5. All.csv\")\n",
        "print(\"CSV Data:\")\n",
        "print(csv_data)"
      ],
      "metadata": {
        "colab": {
          "base_uri": "https://localhost:8080/"
        },
        "id": "mVoywiBXNvlF",
        "outputId": "2c54b9b4-3ccd-406a-9347-76a097652264"
      },
      "execution_count": 2,
      "outputs": [
        {
          "output_type": "stream",
          "name": "stdout",
          "text": [
            "CSV Data:\n",
            "   Difficulty                                         Title  Frequency  \\\n",
            "0        EASY                             Last Stone Weight      100.0   \n",
            "1      MEDIUM                                     LRU Cache       87.7   \n",
            "2      MEDIUM  Minimum Operations to Reduce an Integer to 0       86.2   \n",
            "3      MEDIUM                                Group Anagrams       84.6   \n",
            "4        HARD                         Special Binary String       84.6   \n",
            "..        ...                                           ...        ...   \n",
            "95     MEDIUM                       Robot Bounded In Circle       39.2   \n",
            "96     MEDIUM                                     Min Stack       39.2   \n",
            "97     MEDIUM                  Subarray Product Less Than K       39.2   \n",
            "98     MEDIUM  Double a Number Represented as a Linked List       39.2   \n",
            "99     MEDIUM                     Ways to Make a Fair Array       39.2   \n",
            "\n",
            "    Acceptance Rate                                               Link  \\\n",
            "0          0.657979    https://leetcode.com/problems/last-stone-weight   \n",
            "1          0.444310            https://leetcode.com/problems/lru-cache   \n",
            "2          0.566878  https://leetcode.com/problems/minimum-operatio...   \n",
            "3          0.703370       https://leetcode.com/problems/group-anagrams   \n",
            "4          0.633050  https://leetcode.com/problems/special-binary-s...   \n",
            "..              ...                                                ...   \n",
            "95         0.561532  https://leetcode.com/problems/robot-bounded-in...   \n",
            "96         0.559152            https://leetcode.com/problems/min-stack   \n",
            "97         0.523785  https://leetcode.com/problems/subarray-product...   \n",
            "98         0.614388  https://leetcode.com/problems/double-a-number-...   \n",
            "99         0.643330  https://leetcode.com/problems/ways-to-make-a-f...   \n",
            "\n",
            "                                               Topics  \n",
            "0                        Array, Heap (Priority Queue)  \n",
            "1   Hash Table, Linked List, Design, Doubly-Linked...  \n",
            "2       Dynamic Programming, Greedy, Bit Manipulation  \n",
            "3                  Array, Hash Table, String, Sorting  \n",
            "4                                   String, Recursion  \n",
            "..                                                ...  \n",
            "95                           Math, String, Simulation  \n",
            "96                                      Stack, Design  \n",
            "97   Array, Binary Search, Sliding Window, Prefix Sum  \n",
            "98                           Linked List, Math, Stack  \n",
            "99                                  Array, Prefix Sum  \n",
            "\n",
            "[100 rows x 6 columns]\n"
          ]
        }
      ]
    },
    {
      "cell_type": "code",
      "source": [
        "# Write to Excel\n",
        "csv_data.to_excel(\"5. All.xlsx\", index=False)\n",
        "print(\"Data written to Excel successfully.\")"
      ],
      "metadata": {
        "colab": {
          "base_uri": "https://localhost:8080/"
        },
        "id": "KroXVRWZN9Ou",
        "outputId": "0b90d5fd-b959-4591-9f98-5cffe8e921bd"
      },
      "execution_count": 3,
      "outputs": [
        {
          "output_type": "stream",
          "name": "stdout",
          "text": [
            "Data written to Excel successfully.\n"
          ]
        }
      ]
    },
    {
      "cell_type": "code",
      "source": [
        "# Read back from Excel\n",
        "excel_data = pd.read_excel(\"5. All.xlsx\")\n",
        "print(\"\\nExcel Data:\")\n",
        "print(excel_data)"
      ],
      "metadata": {
        "colab": {
          "base_uri": "https://localhost:8080/"
        },
        "id": "_HMWvRkaOG1u",
        "outputId": "2212d8b2-ea57-4498-aed9-cc04af7c9563"
      },
      "execution_count": 4,
      "outputs": [
        {
          "output_type": "stream",
          "name": "stdout",
          "text": [
            "\n",
            "Excel Data:\n",
            "   Difficulty                                         Title  Frequency  \\\n",
            "0        EASY                             Last Stone Weight      100.0   \n",
            "1      MEDIUM                                     LRU Cache       87.7   \n",
            "2      MEDIUM  Minimum Operations to Reduce an Integer to 0       86.2   \n",
            "3      MEDIUM                                Group Anagrams       84.6   \n",
            "4        HARD                         Special Binary String       84.6   \n",
            "..        ...                                           ...        ...   \n",
            "95     MEDIUM                       Robot Bounded In Circle       39.2   \n",
            "96     MEDIUM                                     Min Stack       39.2   \n",
            "97     MEDIUM                  Subarray Product Less Than K       39.2   \n",
            "98     MEDIUM  Double a Number Represented as a Linked List       39.2   \n",
            "99     MEDIUM                     Ways to Make a Fair Array       39.2   \n",
            "\n",
            "    Acceptance Rate                                               Link  \\\n",
            "0          0.657979    https://leetcode.com/problems/last-stone-weight   \n",
            "1          0.444310            https://leetcode.com/problems/lru-cache   \n",
            "2          0.566878  https://leetcode.com/problems/minimum-operatio...   \n",
            "3          0.703370       https://leetcode.com/problems/group-anagrams   \n",
            "4          0.633050  https://leetcode.com/problems/special-binary-s...   \n",
            "..              ...                                                ...   \n",
            "95         0.561532  https://leetcode.com/problems/robot-bounded-in...   \n",
            "96         0.559152            https://leetcode.com/problems/min-stack   \n",
            "97         0.523785  https://leetcode.com/problems/subarray-product...   \n",
            "98         0.614388  https://leetcode.com/problems/double-a-number-...   \n",
            "99         0.643330  https://leetcode.com/problems/ways-to-make-a-f...   \n",
            "\n",
            "                                               Topics  \n",
            "0                        Array, Heap (Priority Queue)  \n",
            "1   Hash Table, Linked List, Design, Doubly-Linked...  \n",
            "2       Dynamic Programming, Greedy, Bit Manipulation  \n",
            "3                  Array, Hash Table, String, Sorting  \n",
            "4                                   String, Recursion  \n",
            "..                                                ...  \n",
            "95                           Math, String, Simulation  \n",
            "96                                      Stack, Design  \n",
            "97   Array, Binary Search, Sliding Window, Prefix Sum  \n",
            "98                           Linked List, Math, Stack  \n",
            "99                                  Array, Prefix Sum  \n",
            "\n",
            "[100 rows x 6 columns]\n"
          ]
        }
      ]
    },
    {
      "cell_type": "code",
      "source": [],
      "metadata": {
        "id": "U3vl0aFBOMSk"
      },
      "execution_count": null,
      "outputs": []
    }
  ]
}
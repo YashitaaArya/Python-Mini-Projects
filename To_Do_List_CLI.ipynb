{
  "nbformat": 4,
  "nbformat_minor": 0,
  "metadata": {
    "colab": {
      "provenance": [],
      "authorship_tag": "ABX9TyOANyF6/fnxFX+HRKryvVOa",
      "include_colab_link": true
    },
    "kernelspec": {
      "name": "python3",
      "display_name": "Python 3"
    },
    "language_info": {
      "name": "python"
    }
  },
  "cells": [
    {
      "cell_type": "markdown",
      "metadata": {
        "id": "view-in-github",
        "colab_type": "text"
      },
      "source": [
        "<a href=\"https://colab.research.google.com/github/YashitaaArya/Python-Mini-Projects/blob/main/To_Do_List_CLI.ipynb\" target=\"_parent\"><img src=\"https://colab.research.google.com/assets/colab-badge.svg\" alt=\"Open In Colab\"/></a>"
      ]
    },
    {
      "cell_type": "markdown",
      "source": [
        "Create a command-line To-Do List app that lets users add, view and delete tasks during a session."
      ],
      "metadata": {
        "id": "WyczK2r0yIHT"
      }
    },
    {
      "cell_type": "code",
      "execution_count": 7,
      "metadata": {
        "id": "6mWyUxROoBR5"
      },
      "outputs": [],
      "source": [
        "todo_list = []"
      ]
    },
    {
      "cell_type": "code",
      "source": [
        "def show_tasks():\n",
        "    if not todo_list:\n",
        "        print(\"No tasks in the list.\")\n",
        "    else:\n",
        "        print(\"Tasks:\")\n",
        "        for i, task in enumerate(todo_list, start=1):\n",
        "            print(f\"{i}. {task}\")"
      ],
      "metadata": {
        "id": "wjbZLBFayfJ-"
      },
      "execution_count": 8,
      "outputs": []
    },
    {
      "cell_type": "code",
      "source": [
        "def add_task(task):\n",
        "    todo_list.append(task)\n",
        "    print(f\"Task '{task}' added to the list.\")"
      ],
      "metadata": {
        "id": "E3WLCUgwywQo"
      },
      "execution_count": 9,
      "outputs": []
    },
    {
      "cell_type": "code",
      "source": [
        "def delete_task(index):\n",
        "    if 1 <= index <= len(todo_list):\n",
        "        deleted_task = todo_list.pop(index - 1)\n",
        "        print(f\"Task '{deleted_task}' deleted from the list.\")\n",
        "    else:\n",
        "        print(\"Invalid task index.\")"
      ],
      "metadata": {
        "id": "UGjjleEjy00u"
      },
      "execution_count": 6,
      "outputs": []
    },
    {
      "cell_type": "code",
      "source": [
        "while True:\n",
        "    print(\"\\nTo-Do List Menu:\")\n",
        "    print(\"1. Show Tasks\")\n",
        "    print(\"2. Add Task\")\n",
        "    print(\"3. Delete Task\")\n",
        "    print(\"4. Quit\")\n",
        "\n",
        "    choice = input(\"Enter your choice (1/2/3/4): \")\n",
        "    if choice == '1':\n",
        "        show_tasks()\n",
        "    elif choice == '2':\n",
        "        task = input(\"Enter the task to add: \")\n",
        "        add_task(task)\n",
        "    elif choice == '3':\n",
        "        show_tasks()\n",
        "        try:\n",
        "          index = int(input(\"Enter the task index to delete: \"))\n",
        "          delete_task(index)\n",
        "        except ValueError:\n",
        "          print(\"Invalid input. Please enter a valid task index.\")\n",
        "    elif choice == '4':\n",
        "        print(\"Goodbye!\")\n",
        "        break\n",
        "    else:\n",
        "        print(\"Invalid choice. Please select a valid option.\")"
      ],
      "metadata": {
        "colab": {
          "base_uri": "https://localhost:8080/"
        },
        "id": "3CbgMbIxzjFV",
        "outputId": "44d8e465-4fbc-45c0-81b7-e5ecc51e2219"
      },
      "execution_count": 10,
      "outputs": [
        {
          "output_type": "stream",
          "name": "stdout",
          "text": [
            "\n",
            "To-Do List Menu:\n",
            "1. Show Tasks\n",
            "2. Add Task\n",
            "3. Delete Task\n",
            "4. Quit\n",
            "Enter your choice (1/2/3/4): 1\n",
            "No tasks in the list.\n",
            "\n",
            "To-Do List Menu:\n",
            "1. Show Tasks\n",
            "2. Add Task\n",
            "3. Delete Task\n",
            "4. Quit\n",
            "Enter your choice (1/2/3/4): 2\n",
            "Enter the task to add: Learn System Design\n",
            "Task 'Learn System Design' added to the list.\n",
            "\n",
            "To-Do List Menu:\n",
            "1. Show Tasks\n",
            "2. Add Task\n",
            "3. Delete Task\n",
            "4. Quit\n",
            "Enter your choice (1/2/3/4): 1\n",
            "Tasks:\n",
            "1. Learn System Design\n",
            "\n",
            "To-Do List Menu:\n",
            "1. Show Tasks\n",
            "2. Add Task\n",
            "3. Delete Task\n",
            "4. Quit\n",
            "Enter your choice (1/2/3/4): 2\n",
            "Enter the task to add: Do DSA questions\n",
            "Task 'Do DSA questions' added to the list.\n",
            "\n",
            "To-Do List Menu:\n",
            "1. Show Tasks\n",
            "2. Add Task\n",
            "3. Delete Task\n",
            "4. Quit\n",
            "Enter your choice (1/2/3/4): 2\n",
            "Enter the task to add: Practice Aptitude\n",
            "Task 'Practice Aptitude' added to the list.\n",
            "\n",
            "To-Do List Menu:\n",
            "1. Show Tasks\n",
            "2. Add Task\n",
            "3. Delete Task\n",
            "4. Quit\n",
            "Enter your choice (1/2/3/4): 2\n",
            "Enter the task to add: Work on projects\n",
            "Task 'Work on projects' added to the list.\n",
            "\n",
            "To-Do List Menu:\n",
            "1. Show Tasks\n",
            "2. Add Task\n",
            "3. Delete Task\n",
            "4. Quit\n",
            "Enter your choice (1/2/3/4): 1\n",
            "Tasks:\n",
            "1. Learn System Design\n",
            "2. Do DSA questions\n",
            "3. Practice Aptitude\n",
            "4. Work on projects\n",
            "\n",
            "To-Do List Menu:\n",
            "1. Show Tasks\n",
            "2. Add Task\n",
            "3. Delete Task\n",
            "4. Quit\n",
            "Enter your choice (1/2/3/4): 3\n",
            "Tasks:\n",
            "1. Learn System Design\n",
            "2. Do DSA questions\n",
            "3. Practice Aptitude\n",
            "4. Work on projects\n",
            "Enter the task index to delete: 3\n",
            "Task 'Practice Aptitude' deleted from the list.\n",
            "\n",
            "To-Do List Menu:\n",
            "1. Show Tasks\n",
            "2. Add Task\n",
            "3. Delete Task\n",
            "4. Quit\n",
            "Enter your choice (1/2/3/4): 1\n",
            "Tasks:\n",
            "1. Learn System Design\n",
            "2. Do DSA questions\n",
            "3. Work on projects\n",
            "\n",
            "To-Do List Menu:\n",
            "1. Show Tasks\n",
            "2. Add Task\n",
            "3. Delete Task\n",
            "4. Quit\n",
            "Enter your choice (1/2/3/4): 4\n",
            "Goodbye!\n"
          ]
        }
      ]
    },
    {
      "cell_type": "code",
      "source": [],
      "metadata": {
        "id": "ZM6iMBK70M8B"
      },
      "execution_count": null,
      "outputs": []
    }
  ]
}
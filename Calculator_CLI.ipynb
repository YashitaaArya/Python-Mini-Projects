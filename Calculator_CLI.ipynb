{
  "nbformat": 4,
  "nbformat_minor": 0,
  "metadata": {
    "colab": {
      "provenance": [],
      "authorship_tag": "ABX9TyP4JWvLKBYrVAiC49483PQJ",
      "include_colab_link": true
    },
    "kernelspec": {
      "name": "python3",
      "display_name": "Python 3"
    },
    "language_info": {
      "name": "python"
    }
  },
  "cells": [
    {
      "cell_type": "markdown",
      "metadata": {
        "id": "view-in-github",
        "colab_type": "text"
      },
      "source": [
        "<a href=\"https://colab.research.google.com/github/YashitaaArya/Python-Mini-Projects/blob/main/Calculator_CLI.ipynb\" target=\"_parent\"><img src=\"https://colab.research.google.com/assets/colab-badge.svg\" alt=\"Open In Colab\"/></a>"
      ]
    },
    {
      "cell_type": "markdown",
      "source": [
        "Build a simple command-line calculator that performs basic arithmetic : **Addition, Subtraction, Multiplication** and **Division**"
      ],
      "metadata": {
        "id": "oCVKAby5AGDS"
      }
    },
    {
      "cell_type": "code",
      "execution_count": null,
      "metadata": {
        "id": "kLYI6bPh_6kB"
      },
      "outputs": [],
      "source": [
        "def add(x,y):\n",
        "  return x+y"
      ]
    },
    {
      "cell_type": "code",
      "source": [
        "def subtract(x,y):\n",
        "  return x-y"
      ],
      "metadata": {
        "id": "7QuLE0KnAdg-"
      },
      "execution_count": null,
      "outputs": []
    },
    {
      "cell_type": "code",
      "source": [
        "def mutiply(x,y):\n",
        "  return x*y"
      ],
      "metadata": {
        "id": "Wn6AFvX6AoJb"
      },
      "execution_count": null,
      "outputs": []
    },
    {
      "cell_type": "code",
      "source": [
        "def divide(x,y):\n",
        "  if y == 0:\n",
        "    return \"Error: Division by zero\"\n",
        "  return x/y"
      ],
      "metadata": {
        "id": "2OM50dLGAsCS"
      },
      "execution_count": null,
      "outputs": []
    },
    {
      "cell_type": "code",
      "source": [
        "print(\"=== Simple Calculator ===\")\n",
        "print(\"Choose Operation:\")\n",
        "print(\"1. Addition\")\n",
        "print(\"2. Subtraction\")\n",
        "print(\"3. Multiplication\")\n",
        "print(\"4. Division\")\n",
        "\n",
        "op=input(\"Enter choice (1/2/3/4): \")\n",
        "\n",
        "num1=float(input(\"Enter first number: \"))\n",
        "num2=float(input(\"Enter second number: \"))\n",
        "\n",
        "if(op=='1'):\n",
        "  print(\"Result:\",add(num1,num2))\n",
        "elif(op=='2'):\n",
        "  print(\"Result:\",subtract(num1,num2))\n",
        "elif(op=='3'):\n",
        "  print(\"Result:\",mutiply(num1,num2))\n",
        "elif(op=='4'):\n",
        "  print(\"Result:\",divide(num1,num2))\n",
        "else:\n",
        "  print(\"Invalid input\")"
      ],
      "metadata": {
        "colab": {
          "base_uri": "https://localhost:8080/"
        },
        "id": "3ZB_mOtuBEII",
        "outputId": "56a16c67-f80b-4920-8a2f-587b92eec876"
      },
      "execution_count": null,
      "outputs": [
        {
          "output_type": "stream",
          "name": "stdout",
          "text": [
            "=== Simple Calculator ===\n",
            "Choose Operation:\n",
            "1. Addition\n",
            "2. Subtraction\n",
            "3. Multiplication\n",
            "4. Division\n",
            "Enter choice (1/2/3/4): 1\n",
            "Enter first number: 10\n",
            "Enter second number: 5\n",
            "Result: 15.0\n"
          ]
        }
      ]
    },
    {
      "cell_type": "code",
      "source": [],
      "metadata": {
        "id": "NXojB-tiBTCf"
      },
      "execution_count": null,
      "outputs": []
    }
  ]
}
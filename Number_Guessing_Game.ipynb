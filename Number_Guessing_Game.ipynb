{
  "nbformat": 4,
  "nbformat_minor": 0,
  "metadata": {
    "colab": {
      "provenance": [],
      "authorship_tag": "ABX9TyPXltk0QhkR/IEttPDwcnHC",
      "include_colab_link": true
    },
    "kernelspec": {
      "name": "python3",
      "display_name": "Python 3"
    },
    "language_info": {
      "name": "python"
    }
  },
  "cells": [
    {
      "cell_type": "markdown",
      "metadata": {
        "id": "view-in-github",
        "colab_type": "text"
      },
      "source": [
        "<a href=\"https://colab.research.google.com/github/YashitaaArya/Python-Mini-Projects/blob/main/Number_Guessing_Game.ipynb\" target=\"_parent\"><img src=\"https://colab.research.google.com/assets/colab-badge.svg\" alt=\"Open In Colab\"/></a>"
      ]
    },
    {
      "cell_type": "markdown",
      "source": [
        "Build a CLI game where the user has to guess a randomly generated number within a limited number of attempts."
      ],
      "metadata": {
        "id": "MN7FfXUyrfYK"
      }
    },
    {
      "cell_type": "code",
      "execution_count": 1,
      "metadata": {
        "id": "KYne6gf691pp"
      },
      "outputs": [],
      "source": [
        "import random"
      ]
    },
    {
      "cell_type": "code",
      "source": [
        "number = random.randint(1,100)\n",
        "attempts=0\n",
        "max_attempts = 7\n",
        "print(\"Guess the NUMBER (1 to 100)\")\n",
        "while attempts < max_attempts:\n",
        "  try:\n",
        "    guess = int(input(f\"Attempt {attempts+1}: Enter your guess: \"))\n",
        "    attempts += 1\n",
        "    if guess == number:\n",
        "      print(\"Congratulations! You guessed the number.\")\n",
        "      break\n",
        "    elif guess < number:\n",
        "      print(\"Too low! Try again.\")\n",
        "    else:\n",
        "      print(\"Too high! Try again.\")\n",
        "  except ValueError:\n",
        "    print(\"Invalid input. Please enter a valid number.\")\n",
        "\n",
        "if(attempts == max_attempts):\n",
        "  print(f\"Out of attempts! The number was {number}.\")"
      ],
      "metadata": {
        "colab": {
          "base_uri": "https://localhost:8080/"
        },
        "id": "vF5UfptprzbD",
        "outputId": "0f5734ab-51fe-4450-afd9-ec71158eb7ba"
      },
      "execution_count": 2,
      "outputs": [
        {
          "output_type": "stream",
          "name": "stdout",
          "text": [
            "Guess the NUMBER (1 to 100)\n",
            "Attempt 1: Enter your guess: 5\n",
            "Too low! Try again.\n",
            "Attempt 2: Enter your guess: 25\n",
            "Too low! Try again.\n",
            "Attempt 3: Enter your guess: 45\n",
            "Too high! Try again.\n",
            "Attempt 4: Enter your guess: 30\n",
            "Too low! Try again.\n",
            "Attempt 5: Enter your guess: 40\n",
            "Too high! Try again.\n",
            "Attempt 6: Enter your guess: 37\n",
            "Too high! Try again.\n",
            "Attempt 7: Enter your guess: 35\n",
            "Too high! Try again.\n",
            "Out of attempts! The number was 32.\n"
          ]
        }
      ]
    },
    {
      "cell_type": "code",
      "source": [],
      "metadata": {
        "id": "xJkgZcxys5MW"
      },
      "execution_count": null,
      "outputs": []
    }
  ]
}
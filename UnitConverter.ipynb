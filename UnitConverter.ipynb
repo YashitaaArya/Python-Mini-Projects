{
  "nbformat": 4,
  "nbformat_minor": 0,
  "metadata": {
    "colab": {
      "provenance": [],
      "authorship_tag": "ABX9TyMDlV+FkXMmsuTWGdPAHFCo",
      "include_colab_link": true
    },
    "kernelspec": {
      "name": "python3",
      "display_name": "Python 3"
    },
    "language_info": {
      "name": "python"
    }
  },
  "cells": [
    {
      "cell_type": "markdown",
      "metadata": {
        "id": "view-in-github",
        "colab_type": "text"
      },
      "source": [
        "<a href=\"https://colab.research.google.com/github/YashitaaArya/Python-Mini-Projects/blob/main/UnitConverter.ipynb\" target=\"_parent\"><img src=\"https://colab.research.google.com/assets/colab-badge.svg\" alt=\"Open In Colab\"/></a>"
      ]
    },
    {
      "cell_type": "markdown",
      "source": [
        "Create a CLI app that converts units (like km to miles, Celsius to Fahrenheit) based on user inputs."
      ],
      "metadata": {
        "id": "SegpAzuefmKs"
      }
    },
    {
      "cell_type": "code",
      "execution_count": 1,
      "metadata": {
        "id": "115Kpos4fXpD"
      },
      "outputs": [],
      "source": [
        "def km_to_miles(km) :\n",
        "  return km*0.621371"
      ]
    },
    {
      "cell_type": "code",
      "source": [
        "def miles_to_km(miles) :\n",
        "  return miles/0.621371"
      ],
      "metadata": {
        "id": "9H5_P-zggLyz"
      },
      "execution_count": 2,
      "outputs": []
    },
    {
      "cell_type": "code",
      "source": [
        "def c_to_f(celsius) :\n",
        "  return (celsius*9/5)+32"
      ],
      "metadata": {
        "id": "JVKlikV-gSoy"
      },
      "execution_count": 3,
      "outputs": []
    },
    {
      "cell_type": "code",
      "source": [
        "def f_to_c(fahrenheit) :\n",
        "  return (fahrenheit-32)*5/9"
      ],
      "metadata": {
        "id": "rCsh0nzFgae8"
      },
      "execution_count": 4,
      "outputs": []
    },
    {
      "cell_type": "code",
      "source": [
        "print(\"🌍 Unit Converter\")\n",
        "print(\"1. Kilometers to Miles\")\n",
        "print(\"2. Miles to Kilometers\")\n",
        "print(\"3. Celsius to Fahrenheit\")\n",
        "print(\"4. Fahrenheit to Celsius\")"
      ],
      "metadata": {
        "colab": {
          "base_uri": "https://localhost:8080/"
        },
        "id": "39ZnhJyvggLu",
        "outputId": "12ebed19-cc68-463c-9844-9dd8c47b2aee"
      },
      "execution_count": 5,
      "outputs": [
        {
          "output_type": "stream",
          "name": "stdout",
          "text": [
            "🌍 Unit Converter\n",
            "1. Kilometers to Miles\n",
            "2. Miles to Kilometers\n",
            "3. Celsius to Fahrenheit\n",
            "4. Fahrenheit to Celsius\n"
          ]
        }
      ]
    },
    {
      "cell_type": "code",
      "source": [
        "choice = int(input(\"Enter your choice (1-4): \"))\n",
        "try :\n",
        "  if choice==1 :\n",
        "    km = float(input(\"Enter distance in kilometers: \"))\n",
        "    print(f\"{km} kilometers is equal to {km_to_miles(km)} miles.\")\n",
        "  elif choice==2 :\n",
        "    miles = float(input(\"Enter distance in miles: \"))\n",
        "    print(f\"{miles} miles is equal to {miles_to_km(miles)} kilometers.\")\n",
        "  elif choice==3 :\n",
        "    celsius = float(input(\"Enter temperature in Celsius: \"))\n",
        "    print(f\"{celsius} degrees Celsius is equal to {c_to_f(celsius)} degrees Fahrenheit.\")\n",
        "  elif choice==4 :\n",
        "    fahrenheit = float(input(\"Enter temperature in Fahrenheit: \"))\n",
        "    print(f\"{fahrenheit} degrees Fahrenheit is equal to {f_to_c(fahrenheit)} degrees Celsius.\")\n",
        "  else :\n",
        "    print(\"Invalid choice. Please enter a number between 1 and 4.\")\n",
        "except ValueError :\n",
        "  print(\"Invalid input. Please enter a valid number.\")"
      ],
      "metadata": {
        "colab": {
          "base_uri": "https://localhost:8080/"
        },
        "id": "7l_p5Q6XgmwO",
        "outputId": "8f584629-90eb-4073-b2ec-b2919be3fd59"
      },
      "execution_count": 6,
      "outputs": [
        {
          "output_type": "stream",
          "name": "stdout",
          "text": [
            "Enter your choice (1-4): 1\n",
            "Enter distance in kilometers: 50\n",
            "50.0 kilometers is equal to 31.068550000000002 miles.\n"
          ]
        }
      ]
    },
    {
      "cell_type": "code",
      "source": [],
      "metadata": {
        "id": "ejDIyPl8hKPV"
      },
      "execution_count": null,
      "outputs": []
    }
  ]
}